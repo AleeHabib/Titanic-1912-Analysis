{
 "cells": [
  {
   "cell_type": "code",
   "execution_count": 6,
   "id": "e120d294-56fd-4fcb-81be-9dda02afa38e",
   "metadata": {},
   "outputs": [],
   "source": [
    "import pandas as pd # importing pandas into this script"
   ]
  },
  {
   "cell_type": "code",
   "execution_count": 7,
   "id": "94563082-8605-424a-9b0f-74b5538f0e8e",
   "metadata": {},
   "outputs": [],
   "source": [
    "file_path = r\"C:\\Users\\Ali Habib\\Desktop\\Internship\\Titanic 1912 Analysis\\Titanic-Dataset.csv\" # file's address in a raw string\n",
    "df = pd.read_csv(file_path) # making a pandas DataFrame and loading into df object"
   ]
  },
  {
   "cell_type": "code",
   "execution_count": null,
   "id": "15dc54e6-5dbf-4148-ae12-d8721110be2e",
   "metadata": {},
   "outputs": [],
   "source": []
  }
 ],
 "metadata": {
  "kernelspec": {
   "display_name": "Python (Intern)",
   "language": "python",
   "name": "intern"
  },
  "language_info": {
   "codemirror_mode": {
    "name": "ipython",
    "version": 3
   },
   "file_extension": ".py",
   "mimetype": "text/x-python",
   "name": "python",
   "nbconvert_exporter": "python",
   "pygments_lexer": "ipython3",
   "version": "3.12.9"
  }
 },
 "nbformat": 4,
 "nbformat_minor": 5
}
